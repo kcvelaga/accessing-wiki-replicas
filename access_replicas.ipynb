{
 "cells": [
  {
   "cell_type": "code",
   "execution_count": null,
   "id": "97d9b007-c3ee-47af-ac75-b4c63a5f4891",
   "metadata": {},
   "outputs": [],
   "source": [
    "import pymysql\n",
    "import pandas as pd\n",
    "import warnings"
   ]
  },
  {
   "cell_type": "markdown",
   "id": "d3532d40-df8c-479e-9e13-0e011f7aab8a",
   "metadata": {
    "tags": []
   },
   "source": [
    "## Helpful functions"
   ]
  },
  {
   "cell_type": "code",
   "execution_count": 13,
   "id": "095ac4e1-3a22-4a0e-927f-41b67c328846",
   "metadata": {},
   "outputs": [],
   "source": [
    "def decode_df(df):\n",
    "    data_types = df.dtypes.to_dict()\n",
    "    for col in df.columns:\n",
    "        if data_types[col] == object:\n",
    "            df[col] = df[col].str.decode('utf-8')\n",
    "    return df\n",
    "\n",
    "def connect(wiki_name, cnf_path = \"/home/paws/.my.cnf\"):\n",
    "    return pymysql.connect(host = wiki_name + '.analytics.db.svc.wikimedia.cloud',\n",
    "                           read_default_file = cnf_path,\n",
    "                           database = wiki_name + '_p')\n",
    "\n",
    "def pd_query(query, wiki):\n",
    "    warnings.filterwarnings('ignore')\n",
    "    connection = connect(wiki)\n",
    "    return decode_df(pd.read_sql(query, connection))\n",
    "\n",
    "def query_wikis(query, wikis):\n",
    "    combined_result = pd.DataFrame()\n",
    "    for wiki in wikis:\n",
    "        result = pd_query(query, wiki)\n",
    "        result['wiki_db'] = wiki\n",
    "        combined_result = pd.concat([combined_result, result])\n",
    "    return combined_result\n",
    "    \n",
    "# source: https://github.com/wikimedia/wmfdata-python/blob/main/wmfdata/utils.py\n",
    "def sql_tuple(i):\n",
    "\n",
    "    if type(i) != list:\n",
    "        i = [x for x in i]\n",
    "\n",
    "    if len(i) == 0:\n",
    "        raise ValueError(\"Cannot produce an SQL tuple without any items.\")\n",
    "\n",
    "    list_repr = repr(i)\n",
    "    return \"(\" + list_repr[1:-1] + \")\""
   ]
  },
  {
   "cell_type": "markdown",
   "id": "37956dbe-92ab-4243-a513-9224de2740f5",
   "metadata": {
    "tags": []
   },
   "source": [
    "### Misc code"
   ]
  },
  {
   "cell_type": "code",
   "execution_count": null,
   "id": "734eff28-5d0d-4840-bb1c-758d33ea1aa0",
   "metadata": {},
   "outputs": [],
   "source": [
    "# with conn.cursor() as cur:\n",
    "#     cur.execute(query)\n",
    "#     data = cur.fetchall()\n",
    "# conn.close()\n",
    "# return data"
   ]
  }
 ],
 "metadata": {
  "kernelspec": {
   "display_name": "Python 3 (ipykernel)",
   "language": "python",
   "name": "python3"
  },
  "language_info": {
   "codemirror_mode": {
    "name": "ipython",
    "version": 3
   },
   "file_extension": ".py",
   "mimetype": "text/x-python",
   "name": "python",
   "nbconvert_exporter": "python",
   "pygments_lexer": "ipython3",
   "version": "3.10.6"
  }
 },
 "nbformat": 4,
 "nbformat_minor": 5
}
